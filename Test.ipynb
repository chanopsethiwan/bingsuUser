{
 "cells": [
  {
   "cell_type": "code",
   "execution_count": 19,
   "id": "e9e0e795-8567-47f0-9666-baec982c6e1a",
   "metadata": {},
   "outputs": [
    {
     "name": "stdout",
     "output_type": "stream",
     "text": [
      "Requirement already satisfied: pynamodb in /usr/local/Caskroom/miniconda/base/lib/python3.8/site-packages (5.1.0)\n",
      "Requirement already satisfied: botocore>=1.12.54 in /usr/local/Caskroom/miniconda/base/lib/python3.8/site-packages (from pynamodb) (1.21.5)\n",
      "Requirement already satisfied: python-dateutil<3.0.0,>=2.1 in /usr/local/Caskroom/miniconda/base/lib/python3.8/site-packages (from botocore>=1.12.54->pynamodb) (2.8.2)\n",
      "Requirement already satisfied: jmespath<1.0.0,>=0.7.1 in /usr/local/Caskroom/miniconda/base/lib/python3.8/site-packages (from botocore>=1.12.54->pynamodb) (0.10.0)\n",
      "Requirement already satisfied: urllib3<1.27,>=1.25.4 in /usr/local/Caskroom/miniconda/base/lib/python3.8/site-packages (from botocore>=1.12.54->pynamodb) (1.25.11)\n",
      "Requirement already satisfied: six>=1.5 in /usr/local/Caskroom/miniconda/base/lib/python3.8/site-packages (from python-dateutil<3.0.0,>=2.1->botocore>=1.12.54->pynamodb) (1.15.0)\n"
     ]
    }
   ],
   "source": [
    "!pip install pynamodb"
   ]
  },
  {
   "cell_type": "code",
   "execution_count": 5,
   "id": "89c808fe-4bcf-415e-a3a3-814484294588",
   "metadata": {},
   "outputs": [
    {
     "ename": "ModuleNotFoundError",
     "evalue": "No module named 'pynamodb'",
     "output_type": "error",
     "traceback": [
      "\u001b[0;31m---------------------------------------------------------------------------\u001b[0m",
      "\u001b[0;31mModuleNotFoundError\u001b[0m                       Traceback (most recent call last)",
      "\u001b[0;32m<ipython-input-5-62a8a9eafdd7>\u001b[0m in \u001b[0;36m<module>\u001b[0;34m\u001b[0m\n\u001b[1;32m      1\u001b[0m \u001b[0;32mimport\u001b[0m \u001b[0muuid\u001b[0m\u001b[0;34m\u001b[0m\u001b[0;34m\u001b[0m\u001b[0m\n\u001b[0;32m----> 2\u001b[0;31m \u001b[0;32mfrom\u001b[0m \u001b[0mpynamodb\u001b[0m\u001b[0;34m.\u001b[0m\u001b[0mmodels\u001b[0m \u001b[0;32mimport\u001b[0m \u001b[0mModel\u001b[0m\u001b[0;34m\u001b[0m\u001b[0;34m\u001b[0m\u001b[0m\n\u001b[0m\u001b[1;32m      3\u001b[0m \u001b[0;32mfrom\u001b[0m \u001b[0mpynamodb\u001b[0m\u001b[0;34m.\u001b[0m\u001b[0mattributes\u001b[0m \u001b[0;32mimport\u001b[0m \u001b[0mUnicodeAttribute\u001b[0m\u001b[0;34m,\u001b[0m \u001b[0mNumberAttribute\u001b[0m\u001b[0;34m\u001b[0m\u001b[0;34m\u001b[0m\u001b[0m\n\u001b[1;32m      4\u001b[0m \u001b[0;32mfrom\u001b[0m \u001b[0mpynamodb\u001b[0m\u001b[0;34m.\u001b[0m\u001b[0mindexes\u001b[0m \u001b[0;32mimport\u001b[0m \u001b[0mGlobalSecondaryIndex\u001b[0m\u001b[0;34m,\u001b[0m \u001b[0mAllProjection\u001b[0m\u001b[0;34m\u001b[0m\u001b[0;34m\u001b[0m\u001b[0m\n\u001b[1;32m      5\u001b[0m \u001b[0;32mimport\u001b[0m \u001b[0mos\u001b[0m\u001b[0;34m\u001b[0m\u001b[0;34m\u001b[0m\u001b[0m\n",
      "\u001b[0;31mModuleNotFoundError\u001b[0m: No module named 'pynamodb'"
     ]
    }
   ],
   "source": [
    "import uuid\n",
    "from pynamodb.models import Model\n",
    "from pynamodb.attributes import UnicodeAttribute, NumberAttribute\n",
    "from pynamodb.indexes import GlobalSecondaryIndex, AllProjection\n",
    "import os\n",
    "import random as r"
   ]
  },
  {
   "cell_type": "code",
   "execution_count": 21,
   "id": "d2a8b6c2-475f-4bf8-86a6-c0dfede9d5db",
   "metadata": {},
   "outputs": [
    {
     "data": {
      "text/plain": [
       "'0daae59f-86ee-4ce8-a4b3-a23c178a8b4a'"
      ]
     },
     "execution_count": 21,
     "metadata": {},
     "output_type": "execute_result"
    }
   ],
   "source": [
    "Id = str(uuid.uuid4())\n",
    "Id"
   ]
  },
  {
   "cell_type": "code",
   "execution_count": null,
   "id": "b437633a-5a4e-4706-aee2-3eec79c5efa0",
   "metadata": {},
   "outputs": [],
   "source": []
  },
  {
   "cell_type": "code",
   "execution_count": 1,
   "id": "c7237e95-46f0-497b-922e-e4b02a4ca70c",
   "metadata": {},
   "outputs": [
    {
     "ename": "SyntaxError",
     "evalue": "'return' outside function (<ipython-input-1-eefcee69c5dd>, line 5)",
     "output_type": "error",
     "traceback": [
      "\u001b[0;36m  File \u001b[0;32m\"<ipython-input-1-eefcee69c5dd>\"\u001b[0;36m, line \u001b[0;32m5\u001b[0m\n\u001b[0;31m    return {'status': 400}\u001b[0m\n\u001b[0m    ^\u001b[0m\n\u001b[0;31mSyntaxError\u001b[0m\u001b[0;31m:\u001b[0m 'return' outside function\n"
     ]
    }
   ],
   "source": [
    "if phone_number:\n",
    "        phone_number_iterator = PynamoBingsuUser.phone_number_index.query(phone_number)\n",
    "        phone_number_list = list(phone_number_iterator)\n",
    "        if len(phone_number_list) > 0:\n",
    "            return {'status': 400}"
   ]
  },
  {
   "cell_type": "code",
   "execution_count": 15,
   "id": "702ef34c-ae3f-4b27-bfbc-24a3c4c98734",
   "metadata": {},
   "outputs": [
    {
     "data": {
      "text/plain": [
       "'0461145027'"
      ]
     },
     "execution_count": 15,
     "metadata": {},
     "output_type": "execute_result"
    }
   ],
   "source": [
    "ph_no = []\n",
    "ph_no.append(0)\n",
    "for i in range(9):\n",
    "    ph_no.append(r.randint(0, 9))\n",
    "phone_number = ''.join(str(i) for i in ph_no)\n",
    "phone_number\n",
    "# for i in ph_no:\n",
    "#     print(i, end=\"\")"
   ]
  },
  {
   "cell_type": "code",
   "execution_count": null,
   "id": "a8a70876-e812-4c21-acb6-33129eb78a6b",
   "metadata": {},
   "outputs": [],
   "source": []
  }
 ],
 "metadata": {
  "kernelspec": {
   "display_name": "Python 3",
   "language": "python",
   "name": "python3"
  },
  "language_info": {
   "codemirror_mode": {
    "name": "ipython",
    "version": 3
   },
   "file_extension": ".py",
   "mimetype": "text/x-python",
   "name": "python",
   "nbconvert_exporter": "python",
   "pygments_lexer": "ipython3",
   "version": "3.9.6"
  }
 },
 "nbformat": 4,
 "nbformat_minor": 5
}
