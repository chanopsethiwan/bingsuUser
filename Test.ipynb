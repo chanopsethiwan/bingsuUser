{
 "cells": [
  {
   "cell_type": "code",
   "execution_count": 19,
   "id": "e9e0e795-8567-47f0-9666-baec982c6e1a",
   "metadata": {},
   "outputs": [
    {
     "name": "stdout",
     "output_type": "stream",
     "text": [
      "Requirement already satisfied: pynamodb in /usr/local/Caskroom/miniconda/base/lib/python3.8/site-packages (5.1.0)\n",
      "Requirement already satisfied: botocore>=1.12.54 in /usr/local/Caskroom/miniconda/base/lib/python3.8/site-packages (from pynamodb) (1.21.5)\n",
      "Requirement already satisfied: python-dateutil<3.0.0,>=2.1 in /usr/local/Caskroom/miniconda/base/lib/python3.8/site-packages (from botocore>=1.12.54->pynamodb) (2.8.2)\n",
      "Requirement already satisfied: jmespath<1.0.0,>=0.7.1 in /usr/local/Caskroom/miniconda/base/lib/python3.8/site-packages (from botocore>=1.12.54->pynamodb) (0.10.0)\n",
      "Requirement already satisfied: urllib3<1.27,>=1.25.4 in /usr/local/Caskroom/miniconda/base/lib/python3.8/site-packages (from botocore>=1.12.54->pynamodb) (1.25.11)\n",
      "Requirement already satisfied: six>=1.5 in /usr/local/Caskroom/miniconda/base/lib/python3.8/site-packages (from python-dateutil<3.0.0,>=2.1->botocore>=1.12.54->pynamodb) (1.15.0)\n"
     ]
    }
   ],
   "source": [
    "!pip install pynamodb"
   ]
  },
  {
   "cell_type": "code",
   "execution_count": 20,
   "id": "89c808fe-4bcf-415e-a3a3-814484294588",
   "metadata": {},
   "outputs": [
    {
     "ename": "ModuleNotFoundError",
     "evalue": "No module named 'pynamodb'",
     "output_type": "error",
     "traceback": [
      "\u001b[0;31m---------------------------------------------------------------------------\u001b[0m",
      "\u001b[0;31mModuleNotFoundError\u001b[0m                       Traceback (most recent call last)",
      "\u001b[0;32m<ipython-input-20-447003b46ffd>\u001b[0m in \u001b[0;36m<module>\u001b[0;34m\u001b[0m\n\u001b[1;32m      1\u001b[0m \u001b[0;32mimport\u001b[0m \u001b[0muuid\u001b[0m\u001b[0;34m\u001b[0m\u001b[0;34m\u001b[0m\u001b[0m\n\u001b[0;32m----> 2\u001b[0;31m \u001b[0;32mfrom\u001b[0m \u001b[0mpynamodb\u001b[0m\u001b[0;34m.\u001b[0m\u001b[0mmodels\u001b[0m \u001b[0;32mimport\u001b[0m \u001b[0mModel\u001b[0m\u001b[0;34m\u001b[0m\u001b[0;34m\u001b[0m\u001b[0m\n\u001b[0m\u001b[1;32m      3\u001b[0m \u001b[0;32mfrom\u001b[0m \u001b[0mpynamodb\u001b[0m\u001b[0;34m.\u001b[0m\u001b[0mattributes\u001b[0m \u001b[0;32mimport\u001b[0m \u001b[0mUnicodeAttribute\u001b[0m\u001b[0;34m,\u001b[0m \u001b[0mNumberAttribute\u001b[0m\u001b[0;34m\u001b[0m\u001b[0;34m\u001b[0m\u001b[0m\n\u001b[1;32m      4\u001b[0m \u001b[0;32mfrom\u001b[0m \u001b[0mpynamodb\u001b[0m\u001b[0;34m.\u001b[0m\u001b[0mindexes\u001b[0m \u001b[0;32mimport\u001b[0m \u001b[0mGlobalSecondaryIndex\u001b[0m\u001b[0;34m,\u001b[0m \u001b[0mAllProjection\u001b[0m\u001b[0;34m\u001b[0m\u001b[0;34m\u001b[0m\u001b[0m\n\u001b[1;32m      5\u001b[0m \u001b[0;32mimport\u001b[0m \u001b[0mos\u001b[0m\u001b[0;34m\u001b[0m\u001b[0;34m\u001b[0m\u001b[0m\n",
      "\u001b[0;31mModuleNotFoundError\u001b[0m: No module named 'pynamodb'"
     ]
    }
   ],
   "source": [
    "import uuid\n",
    "from pynamodb.models import Model\n",
    "from pynamodb.attributes import UnicodeAttribute, NumberAttribute\n",
    "from pynamodb.indexes import GlobalSecondaryIndex, AllProjection\n",
    "import os"
   ]
  },
  {
   "cell_type": "code",
   "execution_count": 21,
   "id": "d2a8b6c2-475f-4bf8-86a6-c0dfede9d5db",
   "metadata": {},
   "outputs": [
    {
     "data": {
      "text/plain": [
       "'0daae59f-86ee-4ce8-a4b3-a23c178a8b4a'"
      ]
     },
     "execution_count": 21,
     "metadata": {},
     "output_type": "execute_result"
    }
   ],
   "source": [
    "Id = str(uuid.uuid4())\n",
    "Id"
   ]
  },
  {
   "cell_type": "code",
   "execution_count": 7,
   "id": "b437633a-5a4e-4706-aee2-3eec79c5efa0",
   "metadata": {},
   "outputs": [
    {
     "ename": "NameError",
     "evalue": "name 'GlobalSecondaryIndex' is not defined",
     "output_type": "error",
     "traceback": [
      "\u001b[0;31m---------------------------------------------------------------------------\u001b[0m",
      "\u001b[0;31mNameError\u001b[0m                                 Traceback (most recent call last)",
      "\u001b[0;32m<ipython-input-7-c4ef005d6627>\u001b[0m in \u001b[0;36m<module>\u001b[0;34m\u001b[0m\n\u001b[0;32m----> 1\u001b[0;31m \u001b[0;32mclass\u001b[0m \u001b[0mUsernameIndex\u001b[0m\u001b[0;34m(\u001b[0m\u001b[0mGlobalSecondaryIndex\u001b[0m\u001b[0;34m)\u001b[0m\u001b[0;34m:\u001b[0m\u001b[0;34m\u001b[0m\u001b[0;34m\u001b[0m\u001b[0m\n\u001b[0m\u001b[1;32m      2\u001b[0m     \"\"\"\n\u001b[1;32m      3\u001b[0m     \u001b[0mThis\u001b[0m \u001b[0;32mclass\u001b[0m \u001b[0mrepresents\u001b[0m \u001b[0ma\u001b[0m \u001b[0;32mglobal\u001b[0m \u001b[0msecondary\u001b[0m \u001b[0mindex\u001b[0m\u001b[0;34m\u001b[0m\u001b[0;34m\u001b[0m\u001b[0m\n\u001b[1;32m      4\u001b[0m     \"\"\"\n\u001b[1;32m      5\u001b[0m     \u001b[0;32mclass\u001b[0m \u001b[0mMeta\u001b[0m\u001b[0;34m:\u001b[0m\u001b[0;34m\u001b[0m\u001b[0;34m\u001b[0m\u001b[0m\n",
      "\u001b[0;31mNameError\u001b[0m: name 'GlobalSecondaryIndex' is not defined"
     ]
    }
   ],
   "source": [
    "class UsernameIndex(GlobalSecondaryIndex):\n",
    "    \"\"\"\n",
    "    This class represents a global secondary index\n",
    "    \"\"\"\n",
    "    class Meta:\n",
    "        index_name = 'username'\n",
    "        read_capacity_units = 1\n",
    "        write_capacity_units = 1\n",
    "        # All attributes are projected\n",
    "        projection = AllProjection()\n",
    "\n",
    "    username = UnicodeAttribute(hash_key=True)\n",
    "    \n",
    "class GrabPointsIndex(GlobalSecondaryIndex):\n",
    "    \"\"\"\n",
    "    This class represents a global secondary index\n",
    "    \"\"\"\n",
    "    class Meta:\n",
    "        index_name = 'grab_points'\n",
    "        read_capacity_units = 1\n",
    "        write_capacity_units = 1\n",
    "        # All attributes are projected\n",
    "        projection = AllProjection()\n",
    "\n",
    "    grab_points = NumberAttribute(hash_key=True)\n",
    "    \n",
    "class RobinhoodPointsIndex(GlobalSecondaryIndex):\n",
    "    \"\"\"\n",
    "    This class represents a global secondary index\n",
    "    \"\"\"\n",
    "    class Meta:\n",
    "        index_name = 'robinhood_points'\n",
    "        read_capacity_units = 1\n",
    "        write_capacity_units = 1\n",
    "        # All attributes are projected\n",
    "        projection = AllProjection()\n",
    "\n",
    "    robinhood_points = NumberAttribute(hash_key=True)\n",
    "    \n",
    "class FoodpandaPointsIndex(GlobalSecondaryIndex):\n",
    "    \"\"\"\n",
    "    This class represents a global secondary index\n",
    "    \"\"\"\n",
    "    class Meta:\n",
    "        index_name = 'foodpanda_points'\n",
    "        read_capacity_units = 1\n",
    "        write_capacity_units = 1\n",
    "        # All attributes are projected\n",
    "        projection = AllProjection()\n",
    "\n",
    "    foodpanda_points = NumberAttribute(hash_key=True)\n",
    "\n",
    "class GrabIdIndex(GlobalSecondaryIndex):\n",
    "    \"\"\"\n",
    "    This class represents a global secondary index\n",
    "    \"\"\"\n",
    "    class Meta:\n",
    "        index_name = 'grab_id'\n",
    "        read_capacity_units = 1\n",
    "        write_capacity_units = 1\n",
    "        # All attributes are projected\n",
    "        projection = AllProjection()\n",
    "\n",
    "    grab_id = UnicodeAttribute(hash_key=True)\n",
    "    \n",
    "class RobinhoodIdIndex(GlobalSecondaryIndex):\n",
    "    \"\"\"\n",
    "    This class represents a global secondary index\n",
    "    \"\"\"\n",
    "    class Meta:\n",
    "        index_name = 'robinhood_id'\n",
    "        read_capacity_units = 1\n",
    "        write_capacity_units = 1\n",
    "        # All attributes are projected\n",
    "        projection = AllProjection()\n",
    "\n",
    "    robinhood_id = UnicodeAttribute(hash_key=True)\n",
    "    \n",
    "class FoodpandaIdIndex(GlobalSecondaryIndex):\n",
    "    \"\"\"\n",
    "    This class represents a global secondary index\n",
    "    \"\"\"\n",
    "    class Meta:\n",
    "        index_name = 'foodpanda_id'\n",
    "        read_capacity_units = 1\n",
    "        write_capacity_units = 1\n",
    "        # All attributes are projected\n",
    "        projection = AllProjection()\n",
    "\n",
    "    foodpanda_id = UnicodeAttribute(hash_key=True)\n",
    "    \n",
    "class PynamoBingsuUser(Model):\n",
    "    ''' database to store user '''\n",
    "    class Meta:\n",
    "        table_name = \"BingsuTable\"\n",
    "        region = 'ap-southeast-1'\n",
    "    user_id = UnicodeAttribute(hash_key = True)\n",
    "    username = UnicodeAttribute()\n",
    "    password = UnicodeAttribute()\n",
    "    grab_points = NumberAttribute()\n",
    "    robinhood_points = NumberAttribute()\n",
    "    foodpanda_points = NumberAttribute()\n",
    "    coins = NumberAttribute()\n",
    "    email = UnicodeAttribute()\n",
    "    phone_number = UnicodeAttribute()\n",
    "    grab_id = UnicodeAttribute(null=True)\n",
    "    robinhood_id = UnicodeAttribute(null=True)\n",
    "    foodpanda_id = UnicodeAttribute(null=True)\n",
    "    co2_amount = NumberAttribute()\n",
    "    \n",
    "    username_index = UsernameIndex()\n",
    "    grab_points_index = GrabPointsIndex()\n",
    "    robinhood_points_index = RobinhoodPointsIndex()\n",
    "    foodpanda_points_index = FoodpandaPointsIndex()\n",
    "    grab_id_index = GrabIdIndex()\n",
    "    robinhood_id_index = RobinhoodIdIndex()\n",
    "    foodpanda_id_index = FoodpandaIdIndex()\n",
    "    \n",
    "    def returnJson(self):\n",
    "        return vars(self).get('attribute_values')"
   ]
  },
  {
   "cell_type": "code",
   "execution_count": null,
   "id": "c7237e95-46f0-497b-922e-e4b02a4ca70c",
   "metadata": {},
   "outputs": [],
   "source": []
  }
 ],
 "metadata": {
  "kernelspec": {
   "display_name": "Python 3",
   "language": "python",
   "name": "python3"
  },
  "language_info": {
   "codemirror_mode": {
    "name": "ipython",
    "version": 3
   },
   "file_extension": ".py",
   "mimetype": "text/x-python",
   "name": "python",
   "nbconvert_exporter": "python",
   "pygments_lexer": "ipython3",
   "version": "3.9.6"
  }
 },
 "nbformat": 4,
 "nbformat_minor": 5
}
